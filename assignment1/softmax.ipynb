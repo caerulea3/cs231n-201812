{
 "cells": [
  {
   "cell_type": "markdown",
   "metadata": {},
   "source": [
    "# Softmax exercise\n",
    "\n",
    "*Complete and hand in this completed worksheet (including its outputs and any supporting code outside of the worksheet) with your assignment submission. For more details see the [assignments page](http://vision.stanford.edu/teaching/cs231n/assignments.html) on the course website.*\n",
    "\n",
    "This exercise is analogous to the SVM exercise. You will:\n",
    "\n",
    "- implement a fully-vectorized **loss function** for the Softmax classifier\n",
    "- implement the fully-vectorized expression for its **analytic gradient**\n",
    "- **check your implementation** with numerical gradient\n",
    "- use a validation set to **tune the learning rate and regularization** strength\n",
    "- **optimize** the loss function with **SGD**\n",
    "- **visualize** the final learned weights\n"
   ]
  },
  {
   "cell_type": "code",
   "execution_count": 1,
   "metadata": {},
   "outputs": [],
   "source": [
    "from __future__ import print_function\n",
    "import random\n",
    "import numpy as np\n",
    "from cs231n.data_utils import load_CIFAR10\n",
    "import matplotlib.pyplot as plt\n",
    "\n",
    "%matplotlib inline\n",
    "plt.rcParams['figure.figsize'] = (10.0, 8.0) # set default size of plots\n",
    "plt.rcParams['image.interpolation'] = 'nearest'\n",
    "plt.rcParams['image.cmap'] = 'gray'\n",
    "\n",
    "# for auto-reloading extenrnal modules\n",
    "# see http://stackoverflow.com/questions/1907993/autoreload-of-modules-in-ipython\n",
    "%load_ext autoreload\n",
    "%autoreload 2"
   ]
  },
  {
   "cell_type": "code",
   "execution_count": 2,
   "metadata": {},
   "outputs": [
    {
     "data": {
      "text/plain": [
       "['.gitignore', 'get_datasets.sh', 'cifar-10-batches-py']"
      ]
     },
     "execution_count": 2,
     "metadata": {},
     "output_type": "execute_result"
    }
   ],
   "source": [
    "import os\n",
    "os.listdir(\"./cs231n/datasets/\")"
   ]
  },
  {
   "cell_type": "code",
   "execution_count": 3,
   "metadata": {},
   "outputs": [
    {
     "name": "stdout",
     "output_type": "stream",
     "text": [
      "Train data shape:  (49000, 3073)\n",
      "Train labels shape:  (49000,)\n",
      "Validation data shape:  (1000, 3073)\n",
      "Validation labels shape:  (1000,)\n",
      "Test data shape:  (1000, 3073)\n",
      "Test labels shape:  (1000,)\n",
      "dev data shape:  (500, 3073)\n",
      "dev labels shape:  (500,)\n"
     ]
    }
   ],
   "source": [
    "def get_CIFAR10_data(num_training=49000, num_validation=1000, num_test=1000, num_dev=500):\n",
    "    \"\"\"\n",
    "    Load the CIFAR-10 dataset from disk and perform preprocessing to prepare\n",
    "    it for the linear classifier. These are the same steps as we used for the\n",
    "    SVM, but condensed to a single function.  \n",
    "    \"\"\"\n",
    "    # Load the raw CIFAR-10 data\n",
    "    cifar10_dir = './cs231n/datasets/cifar-10-batches-py'\n",
    "    \n",
    "    X_train, y_train, X_test, y_test = load_CIFAR10(cifar10_dir)\n",
    "    \n",
    "    # subsample the data\n",
    "    mask = list(range(num_training, num_training + num_validation))\n",
    "    X_val = X_train[mask]\n",
    "    y_val = y_train[mask]\n",
    "    mask = list(range(num_training))\n",
    "    X_train = X_train[mask]\n",
    "    y_train = y_train[mask]\n",
    "    mask = list(range(num_test))\n",
    "    X_test = X_test[mask]\n",
    "    y_test = y_test[mask]\n",
    "    mask = np.random.choice(num_training, num_dev, replace=False)\n",
    "    X_dev = X_train[mask]\n",
    "    y_dev = y_train[mask]\n",
    "    \n",
    "    # Preprocessing: reshape the image data into rows\n",
    "    X_train = np.reshape(X_train, (X_train.shape[0], -1))\n",
    "    X_val = np.reshape(X_val, (X_val.shape[0], -1))\n",
    "    X_test = np.reshape(X_test, (X_test.shape[0], -1))\n",
    "    X_dev = np.reshape(X_dev, (X_dev.shape[0], -1))\n",
    "    \n",
    "    # Normalize the data: subtract the mean image\n",
    "    mean_image = np.mean(X_train, axis = 0)\n",
    "    X_train -= mean_image\n",
    "    X_val -= mean_image\n",
    "    X_test -= mean_image\n",
    "    X_dev -= mean_image\n",
    "    \n",
    "    # add bias dimension and transform into columns\n",
    "    X_train = np.hstack([X_train, np.ones((X_train.shape[0], 1))])\n",
    "    X_val = np.hstack([X_val, np.ones((X_val.shape[0], 1))])\n",
    "    X_test = np.hstack([X_test, np.ones((X_test.shape[0], 1))])\n",
    "    X_dev = np.hstack([X_dev, np.ones((X_dev.shape[0], 1))])\n",
    "    \n",
    "    return X_train, y_train, X_val, y_val, X_test, y_test, X_dev, y_dev\n",
    "\n",
    "\n",
    "# Cleaning up variables to prevent loading data multiple times (which may cause memory issue)\n",
    "try:\n",
    "   del X_train, y_train\n",
    "   del X_test, y_test\n",
    "   print('Clear previously loaded data.')\n",
    "except:\n",
    "   pass\n",
    "\n",
    "# Invoke the above function to get our data.\n",
    "X_train, y_train, X_val, y_val, X_test, y_test, X_dev, y_dev = get_CIFAR10_data()\n",
    "print('Train data shape: ', X_train.shape)\n",
    "print('Train labels shape: ', y_train.shape)\n",
    "print('Validation data shape: ', X_val.shape)\n",
    "print('Validation labels shape: ', y_val.shape)\n",
    "print('Test data shape: ', X_test.shape)\n",
    "print('Test labels shape: ', y_test.shape)\n",
    "print('dev data shape: ', X_dev.shape)\n",
    "print('dev labels shape: ', y_dev.shape)"
   ]
  },
  {
   "cell_type": "code",
   "execution_count": 4,
   "metadata": {},
   "outputs": [
    {
     "name": "stdout",
     "output_type": "stream",
     "text": [
      "(500, 3073)\n",
      "(0, 3073)\n"
     ]
    }
   ],
   "source": [
    "a=np.array([[1, 2], [3,4], [5,6]])\n",
    "a[2].max()\n",
    "from cs231n.classifiers.softmax import softmax_loss_naive\n",
    "import time\n",
    "\n",
    "W = np.random.randn(3073, 10) * 0.0001\n",
    "print(X_dev.shape)\n",
    "print(X_dev[:0].shape)"
   ]
  },
  {
   "cell_type": "markdown",
   "metadata": {},
   "source": [
    "## Softmax Classifier\n",
    "\n",
    "Your code for this section will all be written inside **cs231n/classifiers/softmax.py**. \n"
   ]
  },
  {
   "cell_type": "code",
   "execution_count": 5,
   "metadata": {},
   "outputs": [
    {
     "name": "stdout",
     "output_type": "stream",
     "text": [
      "(500, 3073)\n",
      "loss: 2.379808\n",
      "sanity check: 2.302585\n"
     ]
    }
   ],
   "source": [
    "# First implement the naive softmax loss function with nested loops.\n",
    "# Open the file cs231n/classifiers/softmax.py and implement the\n",
    "# softmax_loss_naive function.\n",
    "from cs231n.classifiers.softmax import softmax_loss_naive\n",
    "import time\n",
    "\n",
    "# Generate a random softmax weight matrix and use it to compute the loss.\n",
    "W = np.random.randn(3073, 10) * 0.0001\n",
    "print(X_dev.shape)\n",
    "loss, grad = softmax_loss_naive(W, X_dev, y_dev, 0.0, verbose=True)\n",
    "\n",
    "# As a rough sanity check, our loss should be something close to -log(0.1).\n",
    "print('loss: %f' % loss)\n",
    "print('sanity check: %f' % (-np.log(0.1)))"
   ]
  },
  {
   "cell_type": "markdown",
   "metadata": {},
   "source": [
    "## Inline Question 1:\n",
    "Why do we expect our loss to be close to -log(0.1)? Explain briefly.**\n",
    "\n",
    "**Your answer:** \n",
    "what we collected as 'loss' is an average of -log(expected probability)\n",
    "as our W is a random value, expected probability with a large numbers of image will eventually go to 0.1 (cause there is 10 cases which could be selected), so total loss would go to = -log(0.1)\n",
    "as we used 0 for regularization strength, it does not matters to loss\n"
   ]
  },
  {
   "cell_type": "code",
   "execution_count": 28,
   "metadata": {
    "scrolled": true
   },
   "outputs": [
    {
     "name": "stdout",
     "output_type": "stream",
     "text": [
      "numerical: -0.481671 analytic: -0.481671, relative error: 8.098257e-08\n",
      "numerical: 0.455288 analytic: 0.455288, relative error: 4.878347e-08\n",
      "numerical: -2.687723 analytic: -2.687723, relative error: 1.975148e-08\n",
      "numerical: 0.428116 analytic: 0.428116, relative error: 1.991118e-08\n",
      "numerical: -0.655600 analytic: -0.655600, relative error: 9.264589e-09\n",
      "numerical: -2.302772 analytic: -2.302773, relative error: 2.256893e-08\n",
      "numerical: 0.023283 analytic: 0.023283, relative error: 1.898668e-06\n",
      "numerical: -2.159218 analytic: -2.159218, relative error: 1.002477e-08\n",
      "numerical: 3.079463 analytic: 3.079463, relative error: 2.614247e-08\n",
      "numerical: 1.853983 analytic: 1.853983, relative error: 1.835217e-08\n",
      "==With Reg.str==\n",
      "numerical: 0.482549 analytic: 0.482549, relative error: 5.369163e-08\n",
      "numerical: 0.601283 analytic: 0.601283, relative error: 2.879647e-08\n",
      "numerical: 3.466664 analytic: 3.466664, relative error: 2.005563e-08\n",
      "numerical: 0.702468 analytic: 0.702468, relative error: 9.217577e-09\n",
      "numerical: -0.196976 analytic: -0.196977, relative error: 2.472271e-07\n",
      "numerical: 0.291895 analytic: 0.291895, relative error: 2.976413e-09\n",
      "numerical: -0.763889 analytic: -0.763889, relative error: 1.521587e-08\n",
      "numerical: 2.314571 analytic: 2.314571, relative error: 3.023118e-09\n",
      "numerical: -0.316977 analytic: -0.316977, relative error: 9.995463e-08\n",
      "numerical: 0.699364 analytic: 0.699364, relative error: 5.339755e-08\n"
     ]
    }
   ],
   "source": [
    "# Complete the implementation of softmax_loss_naive and implement a (naive)\n",
    "# version of the gradient that uses nested loops.\n",
    "loss, grad = softmax_loss_naive(W, X_dev, y_dev, 0.0)\n",
    "\n",
    "# As we did for the SVM, use numeric gradient checking as a debugging tool.\n",
    "# The numeric gradient should be close to the analytic gradient.\n",
    "from cs231n.gradient_check import grad_check_sparse\n",
    "f = lambda w: softmax_loss_naive(w, X_dev, y_dev, 0.0)[0]\n",
    "grad_numerical = grad_check_sparse(f, W, grad, 10)\n",
    "print(\"==With Reg.str==\")\n",
    "# similar to SVM case, do another gradient check with regularization\n",
    "loss, grad = softmax_loss_naive(W, X_dev, y_dev, 5e1)\n",
    "f = lambda w: softmax_loss_naive(w, X_dev, y_dev, 5e1)[0]\n",
    "grad_numerical = grad_check_sparse(f, W, grad, 10)"
   ]
  },
  {
   "cell_type": "code",
   "execution_count": 86,
   "metadata": {},
   "outputs": [
    {
     "data": {
      "text/plain": [
       "array([[0., 1., 0., 0., 0., 0., 0.],\n",
       "       [0., 0., 1., 0., 0., 0., 0.],\n",
       "       [0., 0., 0., 1., 0., 0., 0.],\n",
       "       [0., 0., 0., 0., 1., 0., 0.]])"
      ]
     },
     "execution_count": 86,
     "metadata": {},
     "output_type": "execute_result"
    }
   ],
   "source": [
    "a=np.array([[1,2,3],[4,5,6],[7,8,9]])\n",
    "a-=a>5\n",
    "a\n",
    "\n",
    "b=np.array([1,2,3,4])\n",
    "b.reshape(-1)\n",
    "c=np.eye(7)[b]\n",
    "c"
   ]
  },
  {
   "cell_type": "code",
   "execution_count": 123,
   "metadata": {
    "scrolled": true
   },
   "outputs": [
    {
     "name": "stdout",
     "output_type": "stream",
     "text": [
      "naive loss: 2.379808e+00 computed in 0.088871s\n",
      "vectorized loss: 2.379808e+00 computed in 0.004019s\n",
      "Loss difference: 0.000000\n",
      "Gradient difference: 0.000000\n"
     ]
    }
   ],
   "source": [
    "# Now that we have a naive implementation of the softmax loss function and its gradient,\n",
    "# implement a vectorized version in softmax_loss_vectorized.\n",
    "# The two versions should compute the same results, but the vectorized version should be\n",
    "# much faster.\n",
    "tic = time.time()\n",
    "loss_naive, grad_naive = softmax_loss_naive(W, X_dev, y_dev, 0.000005)\n",
    "toc = time.time()\n",
    "print('naive loss: %e computed in %fs' % (loss_naive, toc - tic))\n",
    "\n",
    "from cs231n.classifiers.softmax import softmax_loss_vectorized\n",
    "tic = time.time()\n",
    "loss_vectorized, grad_vectorized = softmax_loss_vectorized(W, X_dev, y_dev, 0.000005)\n",
    "toc = time.time()\n",
    "print('vectorized loss: %e computed in %fs' % (loss_vectorized, toc - tic))\n",
    "\n",
    "# As we did for the SVM, we use the Frobenius norm to compare the two versions\n",
    "# of the gradient.\n",
    "grad_difference = np.linalg.norm(grad_naive - grad_vectorized, ord='fro')\n",
    "print('Loss difference: %f' % np.abs(loss_naive - loss_vectorized))\n",
    "print('Gradient difference: %f' % grad_difference)"
   ]
  },
  {
   "cell_type": "code",
   "execution_count": 130,
   "metadata": {},
   "outputs": [
    {
     "data": {
      "application/vnd.jupyter.widget-view+json": {
       "model_id": "86a9ef99e8f44930bd76dd2b06d2c013",
       "version_major": 2,
       "version_minor": 0
      },
      "text/plain": [
       "HBox(children=(IntProgress(value=0), HTML(value='')))"
      ]
     },
     "metadata": {},
     "output_type": "display_data"
    },
    {
     "name": "stdout",
     "output_type": "stream",
     "text": [
      "lr 1.000000e-08 reg 1.000000e-04 train accuracy: 0.161020 val accuracy: 0.171000\n",
      "lr 1.000000e-08 reg 2.000000e-04 train accuracy: 0.140673 val accuracy: 0.150000\n",
      "lr 1.000000e-08 reg 4.000000e-04 train accuracy: 0.154837 val accuracy: 0.128000\n",
      "lr 1.000000e-08 reg 8.000000e-04 train accuracy: 0.152653 val accuracy: 0.126000\n",
      "lr 1.000000e-08 reg 1.600000e-03 train accuracy: 0.151367 val accuracy: 0.171000\n",
      "lr 1.000000e-08 reg 3.200000e-03 train accuracy: 0.140163 val accuracy: 0.126000\n",
      "lr 1.000000e-08 reg 6.400000e-03 train accuracy: 0.150857 val accuracy: 0.161000\n",
      "lr 1.000000e-08 reg 1.280000e-02 train accuracy: 0.155714 val accuracy: 0.165000\n",
      "lr 1.000000e-08 reg 2.560000e-02 train accuracy: 0.164490 val accuracy: 0.171000\n",
      "lr 1.000000e-08 reg 5.120000e-02 train accuracy: 0.162327 val accuracy: 0.163000\n",
      "lr 2.000000e-08 reg 1.000000e-04 train accuracy: 0.174490 val accuracy: 0.179000\n",
      "lr 2.000000e-08 reg 2.000000e-04 train accuracy: 0.179224 val accuracy: 0.178000\n",
      "lr 2.000000e-08 reg 4.000000e-04 train accuracy: 0.189224 val accuracy: 0.197000\n",
      "lr 2.000000e-08 reg 8.000000e-04 train accuracy: 0.167939 val accuracy: 0.165000\n",
      "lr 2.000000e-08 reg 1.600000e-03 train accuracy: 0.181653 val accuracy: 0.193000\n",
      "lr 2.000000e-08 reg 3.200000e-03 train accuracy: 0.186551 val accuracy: 0.166000\n",
      "lr 2.000000e-08 reg 6.400000e-03 train accuracy: 0.181429 val accuracy: 0.178000\n",
      "lr 2.000000e-08 reg 1.280000e-02 train accuracy: 0.170551 val accuracy: 0.179000\n",
      "lr 2.000000e-08 reg 2.560000e-02 train accuracy: 0.176224 val accuracy: 0.186000\n",
      "lr 2.000000e-08 reg 5.120000e-02 train accuracy: 0.181388 val accuracy: 0.184000\n",
      "lr 4.000000e-08 reg 1.000000e-04 train accuracy: 0.199735 val accuracy: 0.204000\n",
      "lr 4.000000e-08 reg 2.000000e-04 train accuracy: 0.214796 val accuracy: 0.225000\n",
      "lr 4.000000e-08 reg 4.000000e-04 train accuracy: 0.207102 val accuracy: 0.232000\n",
      "lr 4.000000e-08 reg 8.000000e-04 train accuracy: 0.209020 val accuracy: 0.207000\n",
      "lr 4.000000e-08 reg 1.600000e-03 train accuracy: 0.199184 val accuracy: 0.191000\n",
      "lr 4.000000e-08 reg 3.200000e-03 train accuracy: 0.213347 val accuracy: 0.230000\n",
      "lr 4.000000e-08 reg 6.400000e-03 train accuracy: 0.203306 val accuracy: 0.211000\n",
      "lr 4.000000e-08 reg 1.280000e-02 train accuracy: 0.202653 val accuracy: 0.201000\n",
      "lr 4.000000e-08 reg 2.560000e-02 train accuracy: 0.215776 val accuracy: 0.206000\n",
      "lr 4.000000e-08 reg 5.120000e-02 train accuracy: 0.209388 val accuracy: 0.186000\n",
      "lr 8.000000e-08 reg 1.000000e-04 train accuracy: 0.240694 val accuracy: 0.238000\n",
      "lr 8.000000e-08 reg 2.000000e-04 train accuracy: 0.234184 val accuracy: 0.238000\n",
      "lr 8.000000e-08 reg 4.000000e-04 train accuracy: 0.242939 val accuracy: 0.250000\n",
      "lr 8.000000e-08 reg 8.000000e-04 train accuracy: 0.233429 val accuracy: 0.257000\n",
      "lr 8.000000e-08 reg 1.600000e-03 train accuracy: 0.241796 val accuracy: 0.241000\n",
      "lr 8.000000e-08 reg 3.200000e-03 train accuracy: 0.234286 val accuracy: 0.221000\n",
      "lr 8.000000e-08 reg 6.400000e-03 train accuracy: 0.242551 val accuracy: 0.241000\n",
      "lr 8.000000e-08 reg 1.280000e-02 train accuracy: 0.237000 val accuracy: 0.228000\n",
      "lr 8.000000e-08 reg 2.560000e-02 train accuracy: 0.235347 val accuracy: 0.246000\n",
      "lr 8.000000e-08 reg 5.120000e-02 train accuracy: 0.246531 val accuracy: 0.244000\n",
      "lr 1.600000e-07 reg 1.000000e-04 train accuracy: 0.266857 val accuracy: 0.277000\n",
      "lr 1.600000e-07 reg 2.000000e-04 train accuracy: 0.272959 val accuracy: 0.263000\n",
      "lr 1.600000e-07 reg 4.000000e-04 train accuracy: 0.265571 val accuracy: 0.276000\n",
      "lr 1.600000e-07 reg 8.000000e-04 train accuracy: 0.267000 val accuracy: 0.280000\n",
      "lr 1.600000e-07 reg 1.600000e-03 train accuracy: 0.266061 val accuracy: 0.273000\n",
      "lr 1.600000e-07 reg 3.200000e-03 train accuracy: 0.278041 val accuracy: 0.285000\n",
      "lr 1.600000e-07 reg 6.400000e-03 train accuracy: 0.268776 val accuracy: 0.287000\n",
      "lr 1.600000e-07 reg 1.280000e-02 train accuracy: 0.266204 val accuracy: 0.271000\n",
      "lr 1.600000e-07 reg 2.560000e-02 train accuracy: 0.265612 val accuracy: 0.266000\n",
      "lr 1.600000e-07 reg 5.120000e-02 train accuracy: 0.270102 val accuracy: 0.302000\n",
      "lr 3.200000e-07 reg 1.000000e-04 train accuracy: 0.295857 val accuracy: 0.303000\n",
      "lr 3.200000e-07 reg 2.000000e-04 train accuracy: 0.294122 val accuracy: 0.271000\n",
      "lr 3.200000e-07 reg 4.000000e-04 train accuracy: 0.295327 val accuracy: 0.335000\n",
      "lr 3.200000e-07 reg 8.000000e-04 train accuracy: 0.300469 val accuracy: 0.302000\n",
      "lr 3.200000e-07 reg 1.600000e-03 train accuracy: 0.298673 val accuracy: 0.318000\n",
      "lr 3.200000e-07 reg 3.200000e-03 train accuracy: 0.299898 val accuracy: 0.281000\n",
      "lr 3.200000e-07 reg 6.400000e-03 train accuracy: 0.295143 val accuracy: 0.310000\n",
      "lr 3.200000e-07 reg 1.280000e-02 train accuracy: 0.298735 val accuracy: 0.299000\n",
      "lr 3.200000e-07 reg 2.560000e-02 train accuracy: 0.299041 val accuracy: 0.304000\n",
      "lr 3.200000e-07 reg 5.120000e-02 train accuracy: 0.295184 val accuracy: 0.316000\n",
      "lr 6.400000e-07 reg 1.000000e-04 train accuracy: 0.331980 val accuracy: 0.331000\n",
      "lr 6.400000e-07 reg 2.000000e-04 train accuracy: 0.327061 val accuracy: 0.315000\n",
      "lr 6.400000e-07 reg 4.000000e-04 train accuracy: 0.326939 val accuracy: 0.344000\n",
      "lr 6.400000e-07 reg 8.000000e-04 train accuracy: 0.328653 val accuracy: 0.328000\n",
      "lr 6.400000e-07 reg 1.600000e-03 train accuracy: 0.324367 val accuracy: 0.325000\n",
      "lr 6.400000e-07 reg 3.200000e-03 train accuracy: 0.327796 val accuracy: 0.331000\n",
      "lr 6.400000e-07 reg 6.400000e-03 train accuracy: 0.329306 val accuracy: 0.313000\n",
      "lr 6.400000e-07 reg 1.280000e-02 train accuracy: 0.325061 val accuracy: 0.310000\n",
      "lr 6.400000e-07 reg 2.560000e-02 train accuracy: 0.327939 val accuracy: 0.328000\n",
      "lr 6.400000e-07 reg 5.120000e-02 train accuracy: 0.325367 val accuracy: 0.325000\n",
      "lr 1.280000e-06 reg 1.000000e-04 train accuracy: 0.356265 val accuracy: 0.348000\n",
      "lr 1.280000e-06 reg 2.000000e-04 train accuracy: 0.358082 val accuracy: 0.354000\n",
      "lr 1.280000e-06 reg 4.000000e-04 train accuracy: 0.353673 val accuracy: 0.334000\n",
      "lr 1.280000e-06 reg 8.000000e-04 train accuracy: 0.356816 val accuracy: 0.357000\n",
      "lr 1.280000e-06 reg 1.600000e-03 train accuracy: 0.354755 val accuracy: 0.355000\n",
      "lr 1.280000e-06 reg 3.200000e-03 train accuracy: 0.353837 val accuracy: 0.347000\n",
      "lr 1.280000e-06 reg 6.400000e-03 train accuracy: 0.357837 val accuracy: 0.332000\n",
      "lr 1.280000e-06 reg 1.280000e-02 train accuracy: 0.356653 val accuracy: 0.343000\n",
      "lr 1.280000e-06 reg 2.560000e-02 train accuracy: 0.356633 val accuracy: 0.351000\n",
      "lr 1.280000e-06 reg 5.120000e-02 train accuracy: 0.357367 val accuracy: 0.337000\n",
      "lr 2.560000e-06 reg 1.000000e-04 train accuracy: 0.383939 val accuracy: 0.375000\n",
      "lr 2.560000e-06 reg 2.000000e-04 train accuracy: 0.381571 val accuracy: 0.357000\n",
      "lr 2.560000e-06 reg 4.000000e-04 train accuracy: 0.385694 val accuracy: 0.347000\n",
      "lr 2.560000e-06 reg 8.000000e-04 train accuracy: 0.379061 val accuracy: 0.371000\n",
      "lr 2.560000e-06 reg 1.600000e-03 train accuracy: 0.384898 val accuracy: 0.360000\n",
      "lr 2.560000e-06 reg 3.200000e-03 train accuracy: 0.384082 val accuracy: 0.365000\n",
      "lr 2.560000e-06 reg 6.400000e-03 train accuracy: 0.380143 val accuracy: 0.351000\n",
      "lr 2.560000e-06 reg 1.280000e-02 train accuracy: 0.380755 val accuracy: 0.342000\n",
      "lr 2.560000e-06 reg 2.560000e-02 train accuracy: 0.380857 val accuracy: 0.356000\n",
      "lr 2.560000e-06 reg 5.120000e-02 train accuracy: 0.382633 val accuracy: 0.382000\n",
      "lr 5.120000e-06 reg 1.000000e-04 train accuracy: 0.377490 val accuracy: 0.332000\n",
      "lr 5.120000e-06 reg 2.000000e-04 train accuracy: 0.390020 val accuracy: 0.361000\n",
      "lr 5.120000e-06 reg 4.000000e-04 train accuracy: 0.394551 val accuracy: 0.374000\n",
      "lr 5.120000e-06 reg 8.000000e-04 train accuracy: 0.387490 val accuracy: 0.350000\n",
      "lr 5.120000e-06 reg 1.600000e-03 train accuracy: 0.385592 val accuracy: 0.371000\n",
      "lr 5.120000e-06 reg 3.200000e-03 train accuracy: 0.368061 val accuracy: 0.347000\n",
      "lr 5.120000e-06 reg 6.400000e-03 train accuracy: 0.383490 val accuracy: 0.362000\n",
      "lr 5.120000e-06 reg 1.280000e-02 train accuracy: 0.392163 val accuracy: 0.380000\n",
      "lr 5.120000e-06 reg 2.560000e-02 train accuracy: 0.380184 val accuracy: 0.354000\n",
      "lr 5.120000e-06 reg 5.120000e-02 train accuracy: 0.383490 val accuracy: 0.377000\n",
      "best validation accuracy achieved during cross-validation: 0.382000\n"
     ]
    }
   ],
   "source": [
    "# Use the validation set to tune hyperparameters (regularization strength and\n",
    "# learning rate). You should experiment with different ranges for the learning\n",
    "# rates and regularization strengths; if you are careful you should be able to\n",
    "# get a classification accuracy of over 0.35 on the validation set.\n",
    "from cs231n.classifiers import Softmax\n",
    "results = {}\n",
    "best_val = -1\n",
    "best_softmax = None\n",
    "# learning_rates = [1e-7, 5e-7]\n",
    "# regularization_strengths = [2.5e4, 5e4]\n",
    "from tqdm import tqdm_notebook as tqdm\n",
    "from copy import deepcopy as deepcopy\n",
    "learning_rates = []\n",
    "regularization_strengths=[]\n",
    "c=[]\n",
    "l=1e-8\n",
    "r=1e-4\n",
    "for i in range(10):\n",
    "    learning_rates.append(l)\n",
    "    l*=2\n",
    "    regularization_strengths.append(r)\n",
    "    r*=2\n",
    "################################################################################\n",
    "# TODO:                                                                        #\n",
    "# Use the validation set to set the learning rate and regularization strength. #\n",
    "# This should be identical to the validation that you did for the SVM; save    #\n",
    "# the best trained softmax classifer in best_softmax.                          #\n",
    "################################################################################\n",
    "testarr = [(l, r) for l in learning_rates for r in regularization_strengths]\n",
    "for (l, r) in tqdm(testarr):\n",
    "#     print(\"Cross_validation try for learning_rate {0}, reg_str {1}\".format(l, r))\n",
    "    sm_classifier = Softmax()\n",
    "    sm_classifier.train(X_train, y_train, learning_rate=l, reg=r,\n",
    "                      num_iters=1500, verbose=False)\n",
    "    \n",
    "    y_train_pred = sm_classifier.predict(X_train)\n",
    "    iter_train_pred = np.mean(y_train == y_train_pred)\n",
    "    y_val_pred = sm_classifier.predict(X_val)\n",
    "    iter_val_pred = np.mean(y_val == y_val_pred)\n",
    "    if iter_val_pred > best_val:\n",
    "        best_val = iter_val_pred\n",
    "        best_softmax = deepcopy(sm_classifier)\n",
    "    results[(l,r)] = (iter_train_pred, iter_val_pred)\n",
    "################################################################################\n",
    "#                              END OF YOUR CODE                                #\n",
    "################################################################################\n",
    "    \n",
    "# Print out results.\n",
    "for lr, reg in sorted(results):\n",
    "    train_accuracy, val_accuracy = results[(lr, reg)]\n",
    "    print('lr %e reg %e train accuracy: %f val accuracy: %f' % (\n",
    "                lr, reg, train_accuracy, val_accuracy))\n",
    "    \n",
    "print('best validation accuracy achieved during cross-validation: %f' % best_val)"
   ]
  },
  {
   "cell_type": "code",
   "execution_count": 131,
   "metadata": {},
   "outputs": [
    {
     "name": "stdout",
     "output_type": "stream",
     "text": [
      "softmax on raw pixels final test set accuracy: 0.358000\n"
     ]
    }
   ],
   "source": [
    "# evaluate on test set\n",
    "# Evaluate the best softmax on test set\n",
    "y_test_pred = best_softmax.predict(X_test)\n",
    "test_accuracy = np.mean(y_test == y_test_pred)\n",
    "print('softmax on raw pixels final test set accuracy: %f' % (test_accuracy, ))"
   ]
  },
  {
   "cell_type": "markdown",
   "metadata": {},
   "source": [
    "**Inline Question** - *True or False*\n",
    "\n",
    "It's possible to add a new datapoint to a training set that would leave the SVM loss unchanged, but this is not the case with the Softmax classifier loss.\n",
    "\n",
    "*Your answer*:\n",
    "\n",
    "*Your explanation*:"
   ]
  },
  {
   "cell_type": "code",
   "execution_count": 132,
   "metadata": {},
   "outputs": [
    {
     "data": {
      "image/png": "[encoded data removed]",
      "text/plain": [
       "<Figure size 432x288 with 10 Axes>"
      ]
     },
     "metadata": {
      "needs_background": "light"
     },
     "output_type": "display_data"
    }
   ],
   "source": [
    "# Visualize the learned weights for each class\n",
    "w = best_softmax.W[:-1,:] # strip out the bias\n",
    "w = w.reshape(32, 32, 3, 10)\n",
    "\n",
    "w_min, w_max = np.min(w), np.max(w)\n",
    "\n",
    "classes = ['plane', 'car', 'bird', 'cat', 'deer', 'dog', 'frog', 'horse', 'ship', 'truck']\n",
    "for i in range(10):\n",
    "    plt.subplot(2, 5, i + 1)\n",
    "    \n",
    "    # Rescale the weights to be between 0 and 255\n",
    "    wimg = 255.0 * (w[:, :, :, i].squeeze() - w_min) / (w_max - w_min)\n",
    "    plt.imshow(wimg.astype('uint8'))\n",
    "    plt.axis('off')\n",
    "    plt.title(classes[i])"
   ]
  }
 ],
 "metadata": {
  "kernelspec": {
   "display_name": "Python 3",
   "language": "python",
   "name": "python3"
  },
  "language_info": {
   "codemirror_mode": {
    "name": "ipython",
    "version": 3
   },
   "file_extension": ".py",
   "mimetype": "text/x-python",
   "name": "python",
   "nbconvert_exporter": "python",
   "pygments_lexer": "ipython3",
   "version": "3.6.4"
  }
 },
 "nbformat": 4,
 "nbformat_minor": 1
}
