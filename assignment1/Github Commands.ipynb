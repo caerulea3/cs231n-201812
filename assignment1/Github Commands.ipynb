{
 "cells": [
  {
   "cell_type": "code",
   "execution_count": 4,
   "metadata": {},
   "outputs": [
    {
     "name": "stdout",
     "output_type": "stream",
     "text": [
      "[master e2e433f] svm-2.2\r\n",
      " 3 files changed, 855 insertions(+), 725 deletions(-)\r\n",
      " create mode 100644 assignment1/Github Commands.ipynb\r\n",
      " rewrite assignment1/svm.ipynb (84%)\r\n"
     ]
    }
   ],
   "source": [
    "! git add *\n",
    "! git commit -m svm-2.2"
   ]
  },
  {
   "cell_type": "code",
   "execution_count": null,
   "metadata": {},
   "outputs": [],
   "source": [
    "! git push"
   ]
  },
  {
   "cell_type": "code",
   "execution_count": 1,
   "metadata": {},
   "outputs": [
    {
     "name": "stdout",
     "output_type": "stream",
     "text": [
      "remote: Enumerating objects: 17, done.\u001b[K\n",
      "remote: Counting objects: 100% (17/17), done.\u001b[K\n",
      "remote: Compressing objects: 100% (2/2), done.\u001b[K\n",
      "remote: Total 9 (delta 6), reused 9 (delta 6), pack-reused 0\u001b[K\n",
      "Unpacking objects: 100% (9/9), done.\n",
      "From https://github.com/caerulea3/cs231n-201812\n",
      "   531e870..fe237fe  master     -> origin/master\n",
      "error: Your local changes to the following files would be overwritten by merge:\n",
      "\tassignment1/svm.ipynb\n",
      "Please, commit your changes or stash them before you can merge.\n",
      "Aborting\n"
     ]
    }
   ],
   "source": [
    "! git pull"
   ]
  },
  {
   "cell_type": "code",
   "execution_count": 2,
   "metadata": {},
   "outputs": [
    {
     "name": "stdout",
     "output_type": "stream",
     "text": [
      "HEAD is now at fe237fe svm-2.1\r\n"
     ]
    }
   ],
   "source": [
    "#reset and get all files syncronized with git\n",
    "!git fetch origin\n",
    "!git reset --hard origin/master"
   ]
  }
 ],
 "metadata": {
  "kernelspec": {
   "display_name": "Python 3",
   "language": "python",
   "name": "python3"
  },
  "language_info": {
   "codemirror_mode": {
    "name": "ipython",
    "version": 3
   },
   "file_extension": ".py",
   "mimetype": "text/x-python",
   "name": "python",
   "nbconvert_exporter": "python",
   "pygments_lexer": "ipython3",
   "version": "3.6.4"
  }
 },
 "nbformat": 4,
 "nbformat_minor": 2
}
